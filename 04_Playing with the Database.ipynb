{
 "cells": [
  {
   "cell_type": "code",
   "execution_count": 1,
   "id": "ed75debe-5742-471e-b3f4-b3d9f38b94f8",
   "metadata": {},
   "outputs": [],
   "source": [
    "from app import db\n",
    "from app.models import User, Post\n",
    "from faker import Faker"
   ]
  },
  {
   "cell_type": "markdown",
   "id": "f8732e73-4a50-4148-b5c6-206d12ba6d7e",
   "metadata": {},
   "source": [
    "### Fake users"
   ]
  },
  {
   "cell_type": "code",
   "execution_count": 6,
   "id": "17945444-c2b6-4dc7-bec9-c997a04c1416",
   "metadata": {},
   "outputs": [
    {
     "data": {
      "text/plain": [
       "('Jennifer Guzman', 'jgarcia@miller.com')"
      ]
     },
     "execution_count": 6,
     "metadata": {},
     "output_type": "execute_result"
    }
   ],
   "source": [
    "fake = Faker()\n",
    "fake.name(), fake.email()"
   ]
  },
  {
   "cell_type": "markdown",
   "id": "34401068-4b66-4dd0-83a9-1249cc3f5205",
   "metadata": {},
   "source": [
    "### Insert data"
   ]
  },
  {
   "cell_type": "code",
   "execution_count": 7,
   "id": "9b9a1792-139b-4d2b-98ac-93e81f8dc421",
   "metadata": {},
   "outputs": [],
   "source": [
    "for i in range(10):\n",
    "    u = User(username= fake.name(), email = fake.email())\n",
    "    db.session.add(u)\n",
    "    db.session.commit()"
   ]
  },
  {
   "cell_type": "markdown",
   "id": "2c4c9f95-ab52-4baf-a815-d4c92e213ddb",
   "metadata": {},
   "source": [
    "### Query the data"
   ]
  },
  {
   "cell_type": "code",
   "execution_count": 8,
   "id": "1597eb07-2a5f-4a5b-9c84-3abdc9fad9f9",
   "metadata": {},
   "outputs": [
    {
     "data": {
      "text/plain": [
       "[<User john>,\n",
       " <User Migo>,\n",
       " <User James Atkins>,\n",
       " <User Veronica Reynolds DDS>,\n",
       " <User Shannon Cobb>,\n",
       " <User Luke Cline>,\n",
       " <User David Ward>,\n",
       " <User Jennifer Horn MD>,\n",
       " <User Matthew Murphy>,\n",
       " <User Cindy Mathis>,\n",
       " <User Regina Robinson>,\n",
       " <User William Johnson>]"
      ]
     },
     "execution_count": 8,
     "metadata": {},
     "output_type": "execute_result"
    }
   ],
   "source": [
    "users = User.query.all()\n",
    "users"
   ]
  },
  {
   "cell_type": "code",
   "execution_count": 10,
   "id": "b688939f-80ae-4901-be16-8165c9b9ac5f",
   "metadata": {},
   "outputs": [
    {
     "name": "stdout",
     "output_type": "stream",
     "text": [
      "1 john john@example.com\n",
      "2 Migo Migo@example.com\n",
      "3 James Atkins butlercaroline@wood.biz\n",
      "4 Veronica Reynolds DDS benjamincarroll@hotmail.com\n",
      "5 Shannon Cobb markleon@oliver.com\n",
      "6 Luke Cline jenkinskaren@blevins-jones.com\n",
      "7 David Ward david94@gmail.com\n",
      "8 Jennifer Horn MD michaelnelson@gmail.com\n",
      "9 Matthew Murphy georgekelly@fernandez-horton.com\n",
      "10 Cindy Mathis jacksonzachary@wilson-walsh.biz\n",
      "11 Regina Robinson courtney30@yahoo.com\n",
      "12 William Johnson randallkevin@jones.com\n"
     ]
    }
   ],
   "source": [
    "for i in users:\n",
    "    print(i.id,i.username, i.email)"
   ]
  },
  {
   "cell_type": "markdown",
   "id": "5371adf9-7fd1-4630-8a99-149fd56f3af4",
   "metadata": {},
   "source": [
    "### Another way to query data\n",
    "- if you happen to know user's id..."
   ]
  },
  {
   "cell_type": "code",
   "execution_count": 13,
   "id": "adfbf9d8-9b42-4899-9b0c-3edf3fa521ab",
   "metadata": {},
   "outputs": [
    {
     "data": {
      "text/plain": [
       "<User john>"
      ]
     },
     "execution_count": 13,
     "metadata": {},
     "output_type": "execute_result"
    }
   ],
   "source": [
    "User.query.get(1)"
   ]
  },
  {
   "cell_type": "markdown",
   "id": "bb5cea31-62df-4d8a-97f2-3136d2a0aa63",
   "metadata": {},
   "source": [
    "### Add a blog post.."
   ]
  },
  {
   "cell_type": "code",
   "execution_count": 35,
   "id": "901a464f-7b5a-41ad-9714-4246d33ccb50",
   "metadata": {},
   "outputs": [],
   "source": [
    "u = User.query.get(1)\n",
    "p = Post(body=fake.text(), author=u)\n",
    "db.session.add(p)\n",
    "db.session.commit()"
   ]
  },
  {
   "cell_type": "markdown",
   "id": "4b2bb08c-c189-437f-95f2-455f6d876b40",
   "metadata": {},
   "source": [
    "#### wow...\n",
    "- no need to put values because...\n",
    "    - for timestamp, the filed has a default.\n",
    "    - for user_id, its relationship with User class has been defined.\n",
    "    - for its own id, it will augment by default from 1. "
   ]
  },
  {
   "cell_type": "markdown",
   "id": "171f76ff-7653-4674-be41-815016a4f731",
   "metadata": {
    "tags": []
   },
   "source": [
    "### access posts through user."
   ]
  },
  {
   "cell_type": "code",
   "execution_count": 37,
   "id": "13f1c163-3c8d-4802-9c0c-9e8a74f8f186",
   "metadata": {},
   "outputs": [
    {
     "data": {
      "text/plain": [
       "<User john>"
      ]
     },
     "execution_count": 37,
     "metadata": {},
     "output_type": "execute_result"
    }
   ],
   "source": [
    "u = User.query.get(1)\n",
    "u"
   ]
  },
  {
   "cell_type": "code",
   "execution_count": 42,
   "id": "d7c6a471-2e61-4f54-b0aa-ee43b8d85fe2",
   "metadata": {},
   "outputs": [
    {
     "data": {
      "text/plain": [
       "[<Post While letter budget charge. Sister exactly though mission hard. Economic organization away. Election order education usually specific reduce yet plan.>]"
      ]
     },
     "execution_count": 42,
     "metadata": {},
     "output_type": "execute_result"
    }
   ],
   "source": [
    "posts = u.posts.all()\n",
    "posts\n",
    "\n",
    "#by accessing its attribute posts, you can get methods of db.relationship\n"
   ]
  },
  {
   "cell_type": "markdown",
   "id": "463e4166-4685-49c3-8d27-192836f61000",
   "metadata": {},
   "source": [
    "#### count how many posts an author has written;"
   ]
  },
  {
   "cell_type": "code",
   "execution_count": 43,
   "id": "11f829bb-0c65-4aaf-afbc-77952fb13ff9",
   "metadata": {},
   "outputs": [
    {
     "data": {
      "text/plain": [
       "1"
      ]
     },
     "execution_count": 43,
     "metadata": {},
     "output_type": "execute_result"
    }
   ],
   "source": [
    "u.posts.count()"
   ]
  },
  {
   "cell_type": "markdown",
   "id": "bafed49c-7e11-48e1-84fb-ee9c19a691c9",
   "metadata": {},
   "source": [
    "### Erase test users and posts created above..."
   ]
  },
  {
   "cell_type": "code",
   "execution_count": 44,
   "id": "a3354683-f266-4b53-b5ff-f775f59e1048",
   "metadata": {},
   "outputs": [],
   "source": [
    "users = User.query.all()\n",
    "for u in users:\n",
    "    db.session.delete(u)\n",
    "    \n",
    "posts = Post.query.all()\n",
    "for p in posts:\n",
    "    db.session.delete(p)\n",
    "\n",
    "db.session.commit()"
   ]
  },
  {
   "cell_type": "code",
   "execution_count": 46,
   "id": "00e6a99e-4a5c-4e7e-80c5-848bb9044ff3",
   "metadata": {},
   "outputs": [
    {
     "data": {
      "text/plain": [
       "([], [])"
      ]
     },
     "execution_count": 46,
     "metadata": {},
     "output_type": "execute_result"
    }
   ],
   "source": [
    "User.query.all(), Post.query.all()"
   ]
  },
  {
   "cell_type": "markdown",
   "id": "14b0dc30-4a3b-4845-bd07-7bc4f7105373",
   "metadata": {},
   "source": [
    "---\n",
    "\n",
    "### Shell Context\n",
    "\n",
    "    While you work on your application, you will need to test things out in a Python shell very often, so having to repeat the above imports every time is going to get tedious, so this is a good time to address this problem.\n",
    "    \n",
    "    The flask shell command is another very useful tool in the flask umbrella of commands. The shell command is the second \"core\" command implemented by Flask, after run. The purpose of this command is to start a Python interpreter in the context of the application. What does that mean? See the following example"
   ]
  },
  {
   "cell_type": "code",
   "execution_count": null,
   "id": "10d335ea-9d9d-44ca-9447-5c2efe03f400",
   "metadata": {},
   "outputs": [],
   "source": []
  }
 ],
 "metadata": {
  "kernelspec": {
   "display_name": "Python 3 (ipykernel)",
   "language": "python",
   "name": "python3"
  },
  "language_info": {
   "codemirror_mode": {
    "name": "ipython",
    "version": 3
   },
   "file_extension": ".py",
   "mimetype": "text/x-python",
   "name": "python",
   "nbconvert_exporter": "python",
   "pygments_lexer": "ipython3",
   "version": "3.9.4"
  }
 },
 "nbformat": 4,
 "nbformat_minor": 5
}
